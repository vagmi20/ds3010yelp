{
 "cells": [
  {
   "cell_type": "code",
   "execution_count": 59,
   "metadata": {},
   "outputs": [],
   "source": [
    "import pandas as pd\n",
    "import seaborn as sns\n",
    "import numpy as np\n",
    "from sklearn.ensemble import RandomForestClassifier\n",
    "from sklearn.linear_model import LogisticRegression\n",
    "from sklearn.feature_extraction.text import CountVectorizer\n",
    "from sklearn.model_selection import StratifiedKFold, RandomizedSearchCV\n",
    "from sklearn.naive_bayes import MultinomialNB\n",
    "from sklearn.pipeline import make_pipeline\n",
    "from sklearn.metrics import confusion_matrix, ConfusionMatrixDisplay, accuracy_score, classification_report\n",
    "import matplotlib.pyplot as plt\n",
    "import nltk\n",
    "import gensim\n",
    "from gensim.models import Word2Vec\n",
    "from nltk.tokenize import sent_tokenize, word_tokenize\n",
    "import ast\n",
    "import joblib\n",
    "import re\n",
    "import string\n",
    "import warnings\n",
    "\n",
    "warnings.filterwarnings('ignore')"
   ]
  },
  {
   "cell_type": "code",
   "execution_count": 3,
   "metadata": {},
   "outputs": [],
   "source": [
    "# Load the Datasets in\n"
   ]
  },
  {
   "cell_type": "code",
   "execution_count": 4,
   "metadata": {},
   "outputs": [],
   "source": [
    "yelp_train_businesses = pd.read_csv(\"yelp_cleaned_csv_dataset/yelp_train_businesses.csv\")\n",
    "yelp_train_tips = pd.read_csv(\"yelp_cleaned_csv_dataset/yelp_train_tips.csv\")\n",
    "yelp_train_reviews = pd.read_csv(\"yelp_cleaned_csv_dataset/yelp_train_reviews.csv\")"
   ]
  },
  {
   "cell_type": "code",
   "execution_count": 5,
   "metadata": {},
   "outputs": [],
   "source": [
    "yelp_validate_businesses = pd.read_csv(\"yelp_cleaned_csv_dataset/yelp_validate_businesses.csv\")\n",
    "yelp_validate_tips = pd.read_csv(\"yelp_cleaned_csv_dataset/yelp_validate_tips.csv\")\n",
    "yelp_validate_reviews = pd.read_csv(\"yelp_cleaned_csv_dataset/yelp_validate_reviews.csv\")"
   ]
  },
  {
   "cell_type": "code",
   "execution_count": 6,
   "metadata": {},
   "outputs": [],
   "source": [
    "yelp_test_businesses = pd.read_csv(\"yelp_cleaned_csv_dataset/yelp_test_businesses.csv\")\n",
    "yelp_test_tips = pd.read_csv(\"yelp_cleaned_csv_dataset/yelp_test_tips.csv\")\n",
    "yelp_test_reviews = pd.read_csv(\"yelp_cleaned_csv_dataset/yelp_test_reviews.csv\")"
   ]
  },
  {
   "cell_type": "code",
   "execution_count": 7,
   "metadata": {},
   "outputs": [],
   "source": [
    "def frequency_dict(df): \n",
    "    df_attributes = dict(df['attributes'])\n",
    "    attributes_counter = dict()\n",
    "    for i in range(len(df_attributes)):\n",
    "        real_dict_attributes = dict(ast.literal_eval(df_attributes[i]))\n",
    "        for attribute in real_dict_attributes.keys():\n",
    "            if attribute not in attributes_counter:\n",
    "                attributes_counter[attribute] = 1\n",
    "            else:\n",
    "                attributes_counter[attribute] += 1\n",
    "\n",
    "    attributes_counter = dict(sorted(attributes_counter.items(), key=lambda item: item[1], reverse=True))\n",
    "\n",
    "    return attributes_counter\n",
    "\n"
   ]
  },
  {
   "cell_type": "code",
   "execution_count": 8,
   "metadata": {},
   "outputs": [],
   "source": [
    "attributes_train_businesses = frequency_dict(yelp_train_businesses)\n",
    "attributes_validate_business = frequency_dict(yelp_validate_businesses)\n",
    "attributes_test_businesses = frequency_dict(yelp_test_businesses)"
   ]
  },
  {
   "cell_type": "code",
   "execution_count": 9,
   "metadata": {},
   "outputs": [],
   "source": [
    "def retrieve_attribute_from_df(df, attribute):\n",
    "    filtered_df = df[df['attributes'].str.contains(attribute)][['business_id', 'review_count', 'attributes']]\n",
    "    df_attributes = dict(filtered_df['attributes'])\n",
    "    \n",
    "    attribute_values = []\n",
    "\n",
    "    for key in df_attributes.keys():\n",
    "        real_dict_attributes = dict(ast.literal_eval(df_attributes[key]))\n",
    "        attribute_values.append(real_dict_attributes[attribute])\n",
    "\n",
    "            \n",
    "    filtered_df['attribute_value'] = attribute_values\n",
    "\n",
    "    return filtered_df[filtered_df['attribute_value'] != 'None']\n",
    "\n",
    "    "
   ]
  },
  {
   "cell_type": "code",
   "execution_count": 10,
   "metadata": {},
   "outputs": [],
   "source": [
    "# Plan to Predict the Following Attributes\n",
    "    # BusinessAcceptsCreditCards\n",
    "    # RestaurantsTakeOut\n",
    "    # RestaurantsReservations\n",
    "    # GoodForKids\n",
    "    # RestaurantsPriceRange2\n",
    "\n",
    "## got the 5 most frequent attributes"
   ]
  },
  {
   "cell_type": "code",
   "execution_count": 11,
   "metadata": {},
   "outputs": [],
   "source": [
    "yelp_train_businesses_priceRange2 = retrieve_attribute_from_df(yelp_train_businesses, 'RestaurantsPriceRange2')\n",
    "yelp_validate_businesses_priceRange2 = retrieve_attribute_from_df(yelp_validate_businesses, 'RestaurantsPriceRange2')\n",
    "yelp_test_businesses_priceRange2 = retrieve_attribute_from_df(yelp_test_businesses, 'RestaurantsPriceRange2')"
   ]
  },
  {
   "cell_type": "code",
   "execution_count": 12,
   "metadata": {},
   "outputs": [],
   "source": [
    "yelp_train_businesses_takeOut = retrieve_attribute_from_df(yelp_train_businesses, 'RestaurantsTakeOut')\n",
    "yelp_validate_businesses_takeOut = retrieve_attribute_from_df(yelp_validate_businesses, 'RestaurantsTakeOut')\n",
    "yelp_test_businesses_takeOut = retrieve_attribute_from_df(yelp_test_businesses, 'RestaurantsTakeOut')\n"
   ]
  },
  {
   "cell_type": "code",
   "execution_count": 13,
   "metadata": {},
   "outputs": [],
   "source": [
    "yelp_train_businesses_reservations = retrieve_attribute_from_df(yelp_train_businesses, 'RestaurantsReservations')\n",
    "yelp_validate_businesses_reservations = retrieve_attribute_from_df(yelp_validate_businesses, 'RestaurantsReservations')\n",
    "yelp_test_businesses_reservations = retrieve_attribute_from_df(yelp_test_businesses, 'RestaurantsReservations')"
   ]
  },
  {
   "cell_type": "code",
   "execution_count": 14,
   "metadata": {},
   "outputs": [],
   "source": [
    "yelp_train_businesses_Kids = retrieve_attribute_from_df(yelp_train_businesses, 'GoodForKids')\n",
    "yelp_validate_businesses_Kids = retrieve_attribute_from_df(yelp_validate_businesses, 'GoodForKids')\n",
    "yelp_test_businesses_Kids = retrieve_attribute_from_df(yelp_test_businesses, 'GoodForKids')"
   ]
  },
  {
   "cell_type": "code",
   "execution_count": 15,
   "metadata": {},
   "outputs": [],
   "source": [
    "yelp_train_businesses_creditCards = retrieve_attribute_from_df(yelp_train_businesses, 'BusinessAcceptsCreditCards')\n",
    "yelp_validate_businesses_creditCards = retrieve_attribute_from_df(yelp_validate_businesses, 'BusinessAcceptsCreditCards')\n",
    "yelp_test_businesses_creditCards = retrieve_attribute_from_df(yelp_test_businesses, 'BusinessAcceptsCreditCards')"
   ]
  },
  {
   "cell_type": "code",
   "execution_count": 16,
   "metadata": {},
   "outputs": [],
   "source": [
    "# 3454698\n",
    "\n",
    "# 5242692"
   ]
  },
  {
   "cell_type": "code",
   "execution_count": 17,
   "metadata": {},
   "outputs": [],
   "source": [
    "def process_text(text):\n",
    "    text = str(text).lower()\n",
    "    text = re.sub(\n",
    "        f\"[{re.escape(string.punctuation)}]\", \" \", text\n",
    "    )\n",
    "    text = \" \".join(text.split())\n",
    "    return text\n",
    "\n",
    "yelp_train_tips['clean_text'] = yelp_train_tips.text.map(process_text)\n",
    "yelp_validate_tips['clean_text'] = yelp_validate_tips.text.map(process_text)\n",
    "yelp_test_tips['clean_text'] = yelp_test_tips.text.map(process_text)\n",
    "\n",
    "# yelp_train_reviews['clean_text'] = yelp_train_reviews.text.map(process_text)\n",
    "# yelp_validate_reviews['clean_text'] = yelp_validate_reviews.text.map(process_text)\n",
    "# yelp_test_reviews['clean_text'] = yelp_test_reviews.text.map(process_text)\n"
   ]
  },
  {
   "cell_type": "code",
   "execution_count": 18,
   "metadata": {},
   "outputs": [],
   "source": [
    "# yelp_train_reviews.to_csv(\"yelp_cleaned_csv_dataset/yelp_train_reviews.csv\")\n",
    "# yelp_validate_reviews.to_csv(\"yelp_cleaned_csv_dataset/yelp_validate_reviews.csv\")\n",
    "# yelp_test_reviews.to_csv(\"yelp_cleaned_csv_dataset/yelp_test_reviews.csv\")"
   ]
  },
  {
   "cell_type": "code",
   "execution_count": 19,
   "metadata": {},
   "outputs": [],
   "source": [
    "vec = CountVectorizer(\n",
    "    ngram_range=(1, 3), \n",
    "    stop_words=\"english\",\n",
    ")"
   ]
  },
  {
   "cell_type": "code",
   "execution_count": 66,
   "metadata": {},
   "outputs": [],
   "source": [
    "def build_model(df_train, df_validate, df_test, business_train_df, business_validate_df, business_test_df):\n",
    "    yelp_filtered_train = df_train[df_train['business_id'].isin(business_train_df['business_id'])]\n",
    "    yelp_filtered_validate = df_validate[df_validate['business_id'].isin(business_validate_df['business_id'])]\n",
    "    yelp_filtered_test = df_test[df_test['business_id'].isin(business_test_df['business_id'])]\n",
    "    \n",
    "    X_train = vec.fit_transform(yelp_filtered_train.clean_text)\n",
    "    X_validate = vec.fit_transform(yelp_filtered_validate.clean_text)\n",
    "    X_test = vec.fit_transform(yelp_filtered_test.clean_text)\n",
    "\n",
    "    yelp_filtered_train = yelp_filtered_train.merge(business_train_df[['business_id', 'attribute_value']], on = 'business_id', how = 'inner')\n",
    "    yelp_filtered_validate = yelp_filtered_validate.merge(business_validate_df[['business_id', 'attribute_value']], on = 'business_id', how = 'inner')\n",
    "    yelp_filtered_test = yelp_filtered_test.merge(business_test_df[['business_id', 'attribute_value']], on = 'business_id', how = 'inner')\n",
    "\n",
    "    y_train = yelp_filtered_train.attribute_value\n",
    "    y_validate = yelp_filtered_validate.attribute_value\n",
    "    y_test = yelp_filtered_test.attribute_value\n",
    "\n",
    "\n",
    "    # Hyper-parameter tuning for Multinomial NB (randomized search)\n",
    "    param_grid = {\n",
    "    \"multinomialnb__alpha\": [0.0001, 0.001, 0.1, 1, 10, 100]\n",
    "    }\n",
    "\n",
    "    pipe_nb = make_pipeline(\n",
    "    MultinomialNB()\n",
    "    )\n",
    "\n",
    "    random_search = RandomizedSearchCV(pipe_nb, param_grid, cv=3, verbose=2, n_jobs=-1)  \n",
    "    validate_search = random_search.fit(X_validate, y_validate)\n",
    "\n",
    "    best_alpha_param = validate_search.best_params_\n",
    "\n",
    "    nb = MultinomialNB(alpha = best_alpha_param['multinomialnb__alpha'])\n",
    "    nb.fit(X_train, y_train)\n",
    "\n",
    "    preds = nb.predict(X_test)\n",
    "    \n",
    "\n",
    "    print(accuracy_score(y_test, preds))\n",
    "    print(classification_report(y_test, preds))\n",
    "\n",
    "    return nb, y_test, preds\n"
   ]
  },
  {
   "cell_type": "code",
   "execution_count": 67,
   "metadata": {},
   "outputs": [
    {
     "name": "stdout",
     "output_type": "stream",
     "text": [
      "Fitting 3 folds for each of 6 candidates, totalling 18 fits\n",
      "[CV] END ........................multinomialnb__alpha=0.0001; total time=   0.2s\n",
      "[CV] END ........................multinomialnb__alpha=0.0001; total time=   0.3s\n",
      "[CV] END ........................multinomialnb__alpha=0.0001; total time=   0.3s\n",
      "[CV] END .........................multinomialnb__alpha=0.001; total time=   0.3s\n",
      "[CV] END .........................multinomialnb__alpha=0.001; total time=   0.3s\n",
      "[CV] END .........................multinomialnb__alpha=0.001; total time=   0.3s\n",
      "[CV] END ...........................multinomialnb__alpha=0.1; total time=   0.3s\n",
      "[CV] END ...........................multinomialnb__alpha=0.1; total time=   0.3s\n",
      "[CV] END ...........................multinomialnb__alpha=0.1; total time=   0.3s\n",
      "[CV] END .............................multinomialnb__alpha=1; total time=   0.3s\n",
      "[CV] END .............................multinomialnb__alpha=1; total time=   0.3s\n",
      "[CV] END .............................multinomialnb__alpha=1; total time=   0.2s\n",
      "[CV] END ............................multinomialnb__alpha=10; total time=   0.2s\n",
      "[CV] END ............................multinomialnb__alpha=10; total time=   0.2s\n",
      "[CV] END ............................multinomialnb__alpha=10; total time=   0.2s\n",
      "[CV] END ...........................multinomialnb__alpha=100; total time=   0.2s\n",
      "[CV] END ...........................multinomialnb__alpha=100; total time=   0.2s\n",
      "[CV] END ...........................multinomialnb__alpha=100; total time=   0.2s\n"
     ]
    },
    {
     "ename": "ValueError",
     "evalue": "dimension mismatch",
     "output_type": "error",
     "traceback": [
      "\u001b[0;31m---------------------------------------------------------------------------\u001b[0m",
      "\u001b[0;31mValueError\u001b[0m                                Traceback (most recent call last)",
      "\u001b[0;32m/var/folders/k4/_hldxhq51zjbjxv_dl82pmmr0000gn/T/ipykernel_15064/3392876548.py\u001b[0m in \u001b[0;36m<module>\u001b[0;34m\u001b[0m\n\u001b[0;32m----> 1\u001b[0;31m \u001b[0mtakeOut_model\u001b[0m\u001b[0;34m,\u001b[0m \u001b[0mtakeOut_test\u001b[0m\u001b[0;34m,\u001b[0m \u001b[0mtakeOut_preds\u001b[0m \u001b[0;34m=\u001b[0m \u001b[0mbuild_model\u001b[0m\u001b[0;34m(\u001b[0m\u001b[0myelp_train_tips\u001b[0m\u001b[0;34m,\u001b[0m \u001b[0myelp_validate_tips\u001b[0m\u001b[0;34m,\u001b[0m \u001b[0myelp_test_tips\u001b[0m\u001b[0;34m,\u001b[0m \u001b[0myelp_train_businesses_takeOut\u001b[0m\u001b[0;34m,\u001b[0m \u001b[0myelp_validate_businesses_takeOut\u001b[0m\u001b[0;34m,\u001b[0m \u001b[0myelp_test_businesses_takeOut\u001b[0m\u001b[0;34m)\u001b[0m\u001b[0;34m\u001b[0m\u001b[0;34m\u001b[0m\u001b[0m\n\u001b[0m",
      "\u001b[0;32m/var/folders/k4/_hldxhq51zjbjxv_dl82pmmr0000gn/T/ipykernel_15064/2306109690.py\u001b[0m in \u001b[0;36mbuild_model\u001b[0;34m(df_train, df_validate, df_test, business_train_df, business_validate_df, business_test_df)\u001b[0m\n\u001b[1;32m     34\u001b[0m     \u001b[0mnb\u001b[0m\u001b[0;34m.\u001b[0m\u001b[0mfit\u001b[0m\u001b[0;34m(\u001b[0m\u001b[0mX_train\u001b[0m\u001b[0;34m,\u001b[0m \u001b[0my_train\u001b[0m\u001b[0;34m)\u001b[0m\u001b[0;34m\u001b[0m\u001b[0;34m\u001b[0m\u001b[0m\n\u001b[1;32m     35\u001b[0m \u001b[0;34m\u001b[0m\u001b[0m\n\u001b[0;32m---> 36\u001b[0;31m     \u001b[0mpreds\u001b[0m \u001b[0;34m=\u001b[0m \u001b[0mnb\u001b[0m\u001b[0;34m.\u001b[0m\u001b[0mpredict\u001b[0m\u001b[0;34m(\u001b[0m\u001b[0mX_test\u001b[0m\u001b[0;34m)\u001b[0m\u001b[0;34m\u001b[0m\u001b[0;34m\u001b[0m\u001b[0m\n\u001b[0m\u001b[1;32m     37\u001b[0m \u001b[0;34m\u001b[0m\u001b[0m\n\u001b[1;32m     38\u001b[0m \u001b[0;34m\u001b[0m\u001b[0m\n",
      "\u001b[0;32m~/opt/anaconda3/lib/python3.9/site-packages/sklearn/naive_bayes.py\u001b[0m in \u001b[0;36mpredict\u001b[0;34m(self, X)\u001b[0m\n\u001b[1;32m     73\u001b[0m         \u001b[0mcheck_is_fitted\u001b[0m\u001b[0;34m(\u001b[0m\u001b[0mself\u001b[0m\u001b[0;34m)\u001b[0m\u001b[0;34m\u001b[0m\u001b[0;34m\u001b[0m\u001b[0m\n\u001b[1;32m     74\u001b[0m         \u001b[0mX\u001b[0m \u001b[0;34m=\u001b[0m \u001b[0mself\u001b[0m\u001b[0;34m.\u001b[0m\u001b[0m_check_X\u001b[0m\u001b[0;34m(\u001b[0m\u001b[0mX\u001b[0m\u001b[0;34m)\u001b[0m\u001b[0;34m\u001b[0m\u001b[0;34m\u001b[0m\u001b[0m\n\u001b[0;32m---> 75\u001b[0;31m         \u001b[0mjll\u001b[0m \u001b[0;34m=\u001b[0m \u001b[0mself\u001b[0m\u001b[0;34m.\u001b[0m\u001b[0m_joint_log_likelihood\u001b[0m\u001b[0;34m(\u001b[0m\u001b[0mX\u001b[0m\u001b[0;34m)\u001b[0m\u001b[0;34m\u001b[0m\u001b[0;34m\u001b[0m\u001b[0m\n\u001b[0m\u001b[1;32m     76\u001b[0m         \u001b[0;32mreturn\u001b[0m \u001b[0mself\u001b[0m\u001b[0;34m.\u001b[0m\u001b[0mclasses_\u001b[0m\u001b[0;34m[\u001b[0m\u001b[0mnp\u001b[0m\u001b[0;34m.\u001b[0m\u001b[0margmax\u001b[0m\u001b[0;34m(\u001b[0m\u001b[0mjll\u001b[0m\u001b[0;34m,\u001b[0m \u001b[0maxis\u001b[0m\u001b[0;34m=\u001b[0m\u001b[0;36m1\u001b[0m\u001b[0;34m)\u001b[0m\u001b[0;34m]\u001b[0m\u001b[0;34m\u001b[0m\u001b[0;34m\u001b[0m\u001b[0m\n\u001b[1;32m     77\u001b[0m \u001b[0;34m\u001b[0m\u001b[0m\n",
      "\u001b[0;32m~/opt/anaconda3/lib/python3.9/site-packages/sklearn/naive_bayes.py\u001b[0m in \u001b[0;36m_joint_log_likelihood\u001b[0;34m(self, X)\u001b[0m\n\u001b[1;32m    783\u001b[0m     \u001b[0;32mdef\u001b[0m \u001b[0m_joint_log_likelihood\u001b[0m\u001b[0;34m(\u001b[0m\u001b[0mself\u001b[0m\u001b[0;34m,\u001b[0m \u001b[0mX\u001b[0m\u001b[0;34m)\u001b[0m\u001b[0;34m:\u001b[0m\u001b[0;34m\u001b[0m\u001b[0;34m\u001b[0m\u001b[0m\n\u001b[1;32m    784\u001b[0m         \u001b[0;34m\"\"\"Calculate the posterior log probability of the samples X\"\"\"\u001b[0m\u001b[0;34m\u001b[0m\u001b[0;34m\u001b[0m\u001b[0m\n\u001b[0;32m--> 785\u001b[0;31m         return (safe_sparse_dot(X, self.feature_log_prob_.T) +\n\u001b[0m\u001b[1;32m    786\u001b[0m                 self.class_log_prior_)\n\u001b[1;32m    787\u001b[0m \u001b[0;34m\u001b[0m\u001b[0m\n",
      "\u001b[0;32m~/opt/anaconda3/lib/python3.9/site-packages/sklearn/utils/validation.py\u001b[0m in \u001b[0;36minner_f\u001b[0;34m(*args, **kwargs)\u001b[0m\n\u001b[1;32m     61\u001b[0m             \u001b[0mextra_args\u001b[0m \u001b[0;34m=\u001b[0m \u001b[0mlen\u001b[0m\u001b[0;34m(\u001b[0m\u001b[0margs\u001b[0m\u001b[0;34m)\u001b[0m \u001b[0;34m-\u001b[0m \u001b[0mlen\u001b[0m\u001b[0;34m(\u001b[0m\u001b[0mall_args\u001b[0m\u001b[0;34m)\u001b[0m\u001b[0;34m\u001b[0m\u001b[0;34m\u001b[0m\u001b[0m\n\u001b[1;32m     62\u001b[0m             \u001b[0;32mif\u001b[0m \u001b[0mextra_args\u001b[0m \u001b[0;34m<=\u001b[0m \u001b[0;36m0\u001b[0m\u001b[0;34m:\u001b[0m\u001b[0;34m\u001b[0m\u001b[0;34m\u001b[0m\u001b[0m\n\u001b[0;32m---> 63\u001b[0;31m                 \u001b[0;32mreturn\u001b[0m \u001b[0mf\u001b[0m\u001b[0;34m(\u001b[0m\u001b[0;34m*\u001b[0m\u001b[0margs\u001b[0m\u001b[0;34m,\u001b[0m \u001b[0;34m**\u001b[0m\u001b[0mkwargs\u001b[0m\u001b[0;34m)\u001b[0m\u001b[0;34m\u001b[0m\u001b[0;34m\u001b[0m\u001b[0m\n\u001b[0m\u001b[1;32m     64\u001b[0m \u001b[0;34m\u001b[0m\u001b[0m\n\u001b[1;32m     65\u001b[0m             \u001b[0;31m# extra_args > 0\u001b[0m\u001b[0;34m\u001b[0m\u001b[0;34m\u001b[0m\u001b[0m\n",
      "\u001b[0;32m~/opt/anaconda3/lib/python3.9/site-packages/sklearn/utils/extmath.py\u001b[0m in \u001b[0;36msafe_sparse_dot\u001b[0;34m(a, b, dense_output)\u001b[0m\n\u001b[1;32m    150\u001b[0m             \u001b[0mret\u001b[0m \u001b[0;34m=\u001b[0m \u001b[0mnp\u001b[0m\u001b[0;34m.\u001b[0m\u001b[0mdot\u001b[0m\u001b[0;34m(\u001b[0m\u001b[0ma\u001b[0m\u001b[0;34m,\u001b[0m \u001b[0mb\u001b[0m\u001b[0;34m)\u001b[0m\u001b[0;34m\u001b[0m\u001b[0;34m\u001b[0m\u001b[0m\n\u001b[1;32m    151\u001b[0m     \u001b[0;32melse\u001b[0m\u001b[0;34m:\u001b[0m\u001b[0;34m\u001b[0m\u001b[0;34m\u001b[0m\u001b[0m\n\u001b[0;32m--> 152\u001b[0;31m         \u001b[0mret\u001b[0m \u001b[0;34m=\u001b[0m \u001b[0ma\u001b[0m \u001b[0;34m@\u001b[0m \u001b[0mb\u001b[0m\u001b[0;34m\u001b[0m\u001b[0;34m\u001b[0m\u001b[0m\n\u001b[0m\u001b[1;32m    153\u001b[0m \u001b[0;34m\u001b[0m\u001b[0m\n\u001b[1;32m    154\u001b[0m     if (sparse.issparse(a) and sparse.issparse(b)\n",
      "\u001b[0;32m~/opt/anaconda3/lib/python3.9/site-packages/scipy/sparse/base.py\u001b[0m in \u001b[0;36m__matmul__\u001b[0;34m(self, other)\u001b[0m\n\u001b[1;32m    558\u001b[0m             raise ValueError(\"Scalar operands are not allowed, \"\n\u001b[1;32m    559\u001b[0m                              \"use '*' instead\")\n\u001b[0;32m--> 560\u001b[0;31m         \u001b[0;32mreturn\u001b[0m \u001b[0mself\u001b[0m\u001b[0;34m.\u001b[0m\u001b[0m__mul__\u001b[0m\u001b[0;34m(\u001b[0m\u001b[0mother\u001b[0m\u001b[0;34m)\u001b[0m\u001b[0;34m\u001b[0m\u001b[0;34m\u001b[0m\u001b[0m\n\u001b[0m\u001b[1;32m    561\u001b[0m \u001b[0;34m\u001b[0m\u001b[0m\n\u001b[1;32m    562\u001b[0m     \u001b[0;32mdef\u001b[0m \u001b[0m__rmatmul__\u001b[0m\u001b[0;34m(\u001b[0m\u001b[0mself\u001b[0m\u001b[0;34m,\u001b[0m \u001b[0mother\u001b[0m\u001b[0;34m)\u001b[0m\u001b[0;34m:\u001b[0m\u001b[0;34m\u001b[0m\u001b[0;34m\u001b[0m\u001b[0m\n",
      "\u001b[0;32m~/opt/anaconda3/lib/python3.9/site-packages/scipy/sparse/base.py\u001b[0m in \u001b[0;36m__mul__\u001b[0;34m(self, other)\u001b[0m\n\u001b[1;32m    514\u001b[0m \u001b[0;34m\u001b[0m\u001b[0m\n\u001b[1;32m    515\u001b[0m             \u001b[0;32mif\u001b[0m \u001b[0mother\u001b[0m\u001b[0;34m.\u001b[0m\u001b[0mshape\u001b[0m\u001b[0;34m[\u001b[0m\u001b[0;36m0\u001b[0m\u001b[0;34m]\u001b[0m \u001b[0;34m!=\u001b[0m \u001b[0mself\u001b[0m\u001b[0;34m.\u001b[0m\u001b[0mshape\u001b[0m\u001b[0;34m[\u001b[0m\u001b[0;36m1\u001b[0m\u001b[0;34m]\u001b[0m\u001b[0;34m:\u001b[0m\u001b[0;34m\u001b[0m\u001b[0;34m\u001b[0m\u001b[0m\n\u001b[0;32m--> 516\u001b[0;31m                 \u001b[0;32mraise\u001b[0m \u001b[0mValueError\u001b[0m\u001b[0;34m(\u001b[0m\u001b[0;34m'dimension mismatch'\u001b[0m\u001b[0;34m)\u001b[0m\u001b[0;34m\u001b[0m\u001b[0;34m\u001b[0m\u001b[0m\n\u001b[0m\u001b[1;32m    517\u001b[0m \u001b[0;34m\u001b[0m\u001b[0m\n\u001b[1;32m    518\u001b[0m             \u001b[0mresult\u001b[0m \u001b[0;34m=\u001b[0m \u001b[0mself\u001b[0m\u001b[0;34m.\u001b[0m\u001b[0m_mul_multivector\u001b[0m\u001b[0;34m(\u001b[0m\u001b[0mnp\u001b[0m\u001b[0;34m.\u001b[0m\u001b[0masarray\u001b[0m\u001b[0;34m(\u001b[0m\u001b[0mother\u001b[0m\u001b[0;34m)\u001b[0m\u001b[0;34m)\u001b[0m\u001b[0;34m\u001b[0m\u001b[0;34m\u001b[0m\u001b[0m\n",
      "\u001b[0;31mValueError\u001b[0m: dimension mismatch"
     ]
    }
   ],
   "source": [
    "takeOut_model, takeOut_test, takeOut_preds = build_model(yelp_train_tips, yelp_validate_tips, yelp_test_tips, yelp_train_businesses_takeOut, yelp_validate_businesses_takeOut, yelp_test_businesses_takeOut)\n"
   ]
  },
  {
   "cell_type": "code",
   "execution_count": null,
   "metadata": {},
   "outputs": [
    {
     "ename": "TypeError",
     "evalue": "build_model() missing 2 required positional arguments: 'business_validate_df' and 'business_test_df'",
     "output_type": "error",
     "traceback": [
      "\u001b[0;31m---------------------------------------------------------------------------\u001b[0m",
      "\u001b[0;31mTypeError\u001b[0m                                 Traceback (most recent call last)",
      "\u001b[0;32m/var/folders/k4/_hldxhq51zjbjxv_dl82pmmr0000gn/T/ipykernel_15064/4196670717.py\u001b[0m in \u001b[0;36m<module>\u001b[0;34m\u001b[0m\n\u001b[0;32m----> 1\u001b[0;31m \u001b[0mpriceRange_model\u001b[0m\u001b[0;34m,\u001b[0m \u001b[0mpriceRange2_test\u001b[0m\u001b[0;34m,\u001b[0m \u001b[0mpriceRange2_preds\u001b[0m \u001b[0;34m=\u001b[0m \u001b[0mbuild_model\u001b[0m\u001b[0;34m(\u001b[0m\u001b[0myelp_train_tips\u001b[0m\u001b[0;34m,\u001b[0m \u001b[0myelp_test_tips\u001b[0m\u001b[0;34m,\u001b[0m \u001b[0myelp_train_businesses_priceRange2\u001b[0m\u001b[0;34m,\u001b[0m \u001b[0myelp_test_businesses_priceRange2\u001b[0m\u001b[0;34m)\u001b[0m\u001b[0;34m\u001b[0m\u001b[0;34m\u001b[0m\u001b[0m\n\u001b[0m",
      "\u001b[0;31mTypeError\u001b[0m: build_model() missing 2 required positional arguments: 'business_validate_df' and 'business_test_df'"
     ]
    }
   ],
   "source": [
    "priceRange_model, priceRange2_test, priceRange2_preds = build_model(yelp_train_tips, yelp_validate_tips, yelp_test_tips, yelp_train_businesses_priceRange2, yelp_validate_businesses_priceRange2, yelp_test_businesses_priceRange2)"
   ]
  },
  {
   "cell_type": "code",
   "execution_count": null,
   "metadata": {},
   "outputs": [
    {
     "ename": "TypeError",
     "evalue": "build_model() missing 2 required positional arguments: 'business_validate_df' and 'business_test_df'",
     "output_type": "error",
     "traceback": [
      "\u001b[0;31m---------------------------------------------------------------------------\u001b[0m",
      "\u001b[0;31mTypeError\u001b[0m                                 Traceback (most recent call last)",
      "\u001b[0;32m/var/folders/k4/_hldxhq51zjbjxv_dl82pmmr0000gn/T/ipykernel_15064/3024658579.py\u001b[0m in \u001b[0;36m<module>\u001b[0;34m\u001b[0m\n\u001b[0;32m----> 1\u001b[0;31m \u001b[0mKids_model\u001b[0m\u001b[0;34m,\u001b[0m \u001b[0mKids_test\u001b[0m\u001b[0;34m,\u001b[0m \u001b[0mKids_preds\u001b[0m \u001b[0;34m=\u001b[0m \u001b[0mbuild_model\u001b[0m\u001b[0;34m(\u001b[0m\u001b[0myelp_train_tips\u001b[0m\u001b[0;34m,\u001b[0m \u001b[0myelp_test_tips\u001b[0m\u001b[0;34m,\u001b[0m \u001b[0myelp_train_businesses_Kids\u001b[0m\u001b[0;34m,\u001b[0m \u001b[0myelp_test_businesses_Kids\u001b[0m\u001b[0;34m)\u001b[0m\u001b[0;34m\u001b[0m\u001b[0;34m\u001b[0m\u001b[0m\n\u001b[0m",
      "\u001b[0;31mTypeError\u001b[0m: build_model() missing 2 required positional arguments: 'business_validate_df' and 'business_test_df'"
     ]
    }
   ],
   "source": [
    "Kids_model, Kids_test, Kids_preds = build_model(yelp_train_tips, yelp_validate_tips, yelp_test_tips, yelp_train_businesses_Kids, yelp_validate_businesses_Kids, yelp_test_businesses_Kids)"
   ]
  },
  {
   "cell_type": "code",
   "execution_count": 54,
   "metadata": {},
   "outputs": [
    {
     "ename": "TypeError",
     "evalue": "build_model() missing 2 required positional arguments: 'business_validate_df' and 'business_test_df'",
     "output_type": "error",
     "traceback": [
      "\u001b[0;31m---------------------------------------------------------------------------\u001b[0m",
      "\u001b[0;31mTypeError\u001b[0m                                 Traceback (most recent call last)",
      "\u001b[0;32m/var/folders/k4/_hldxhq51zjbjxv_dl82pmmr0000gn/T/ipykernel_15064/1672786270.py\u001b[0m in \u001b[0;36m<module>\u001b[0;34m\u001b[0m\n\u001b[0;32m----> 1\u001b[0;31m \u001b[0mreservations_model\u001b[0m\u001b[0;34m,\u001b[0m \u001b[0mreservations_test\u001b[0m\u001b[0;34m,\u001b[0m \u001b[0mreservations_preds\u001b[0m \u001b[0;34m=\u001b[0m  \u001b[0mbuild_model\u001b[0m\u001b[0;34m(\u001b[0m\u001b[0myelp_train_tips\u001b[0m\u001b[0;34m,\u001b[0m \u001b[0myelp_test_tips\u001b[0m\u001b[0;34m,\u001b[0m \u001b[0myelp_train_businesses_reservations\u001b[0m\u001b[0;34m,\u001b[0m \u001b[0myelp_test_businesses_reservations\u001b[0m\u001b[0;34m)\u001b[0m\u001b[0;34m\u001b[0m\u001b[0;34m\u001b[0m\u001b[0m\n\u001b[0m",
      "\u001b[0;31mTypeError\u001b[0m: build_model() missing 2 required positional arguments: 'business_validate_df' and 'business_test_df'"
     ]
    }
   ],
   "source": [
    "reservations_model, reservations_test, reservations_preds =  build_model(yelp_train_tips, yelp_validate_tips, yelp_test_tips, yelp_train_businesses_reservations, yelp_validate_businesses_reservations, yelp_test_businesses_reservations)"
   ]
  },
  {
   "cell_type": "code",
   "execution_count": 40,
   "metadata": {},
   "outputs": [
    {
     "name": "stdout",
     "output_type": "stream",
     "text": [
      "0.9702507437314067\n",
      "              precision    recall  f1-score   support\n",
      "\n",
      "       False       0.00      0.00      0.00       980\n",
      "        True       0.97      1.00      0.98     31962\n",
      "\n",
      "    accuracy                           0.97     32942\n",
      "   macro avg       0.49      0.50      0.49     32942\n",
      "weighted avg       0.94      0.97      0.96     32942\n",
      "\n"
     ]
    }
   ],
   "source": [
    "creditCards_model, creditCards_test, creditCards_preds = build_model(yelp_train_tips, yelp_validate_tips, yelp_test_tips, yelp_train_businesses_creditCards, yelp_validate_businesses_creditCards, yelp_test_businesses_creditCards)"
   ]
  },
  {
   "cell_type": "code",
   "execution_count": 26,
   "metadata": {},
   "outputs": [
    {
     "data": {
      "text/plain": [
       "<sklearn.metrics._plot.confusion_matrix.ConfusionMatrixDisplay at 0x7fc4971f99d0>"
      ]
     },
     "execution_count": 26,
     "metadata": {},
     "output_type": "execute_result"
    },
    {
     "data": {
      "image/png": "[encoded data removed]",
      "text/plain": [
       "<Figure size 432x288 with 2 Axes>"
      ]
     },
     "metadata": {
      "needs_background": "light"
     },
     "output_type": "display_data"
    }
   ],
   "source": [
    "reservations_matrix = confusion_matrix(reservations_test, reservations_preds)\n",
    "ConfusionMatrixDisplay(confusion_matrix = reservations_matrix, display_labels = [True, False]).plot()"
   ]
  },
  {
   "cell_type": "code",
   "execution_count": 27,
   "metadata": {},
   "outputs": [
    {
     "data": {
      "text/plain": [
       "<sklearn.metrics._plot.confusion_matrix.ConfusionMatrixDisplay at 0x7fc4941d0f40>"
      ]
     },
     "execution_count": 27,
     "metadata": {},
     "output_type": "execute_result"
    },
    {
     "data": {
      "image/png": "[encoded data removed]",
      "text/plain": [
       "<Figure size 432x288 with 2 Axes>"
      ]
     },
     "metadata": {
      "needs_background": "light"
     },
     "output_type": "display_data"
    }
   ],
   "source": [
    "Kids_matrix = confusion_matrix(Kids_test, Kids_preds)\n",
    "ConfusionMatrixDisplay(confusion_matrix = Kids_matrix, display_labels = [True, False]).plot()"
   ]
  },
  {
   "cell_type": "code",
   "execution_count": 28,
   "metadata": {},
   "outputs": [
    {
     "data": {
      "text/plain": [
       "<sklearn.metrics._plot.confusion_matrix.ConfusionMatrixDisplay at 0x7fc4882a9e20>"
      ]
     },
     "execution_count": 28,
     "metadata": {},
     "output_type": "execute_result"
    },
    {
     "data": {
      "image/png": "[encoded data removed]",
      "text/plain": [
       "<Figure size 432x288 with 2 Axes>"
      ]
     },
     "metadata": {
      "needs_background": "light"
     },
     "output_type": "display_data"
    }
   ],
   "source": [
    "takeOut_matrix = confusion_matrix(takeOut_test, takeOut_preds)\n",
    "ConfusionMatrixDisplay(confusion_matrix = takeOut_matrix, display_labels = [True, False]).plot()"
   ]
  },
  {
   "cell_type": "code",
   "execution_count": 29,
   "metadata": {},
   "outputs": [
    {
     "data": {
      "text/plain": [
       "<sklearn.metrics._plot.confusion_matrix.ConfusionMatrixDisplay at 0x7fc4882bdca0>"
      ]
     },
     "execution_count": 29,
     "metadata": {},
     "output_type": "execute_result"
    },
    {
     "data": {
      "image/png": "[encoded data removed]",
      "text/plain": [
       "<Figure size 432x288 with 2 Axes>"
      ]
     },
     "metadata": {
      "needs_background": "light"
     },
     "output_type": "display_data"
    }
   ],
   "source": [
    "priceRange2_matrix = confusion_matrix(priceRange2_test, priceRange2_preds)\n",
    "ConfusionMatrixDisplay(confusion_matrix = priceRange2_matrix, display_labels = [1, 2, 3, 4]).plot()"
   ]
  },
  {
   "cell_type": "code",
   "execution_count": 31,
   "metadata": {},
   "outputs": [
    {
     "data": {
      "text/plain": [
       "<sklearn.metrics._plot.confusion_matrix.ConfusionMatrixDisplay at 0x7fc495a62040>"
      ]
     },
     "execution_count": 31,
     "metadata": {},
     "output_type": "execute_result"
    },
    {
     "data": {
      "image/png": "[encoded data removed]",
      "text/plain": [
       "<Figure size 432x288 with 2 Axes>"
      ]
     },
     "metadata": {
      "needs_background": "light"
     },
     "output_type": "display_data"
    }
   ],
   "source": [
    "creditCards_matrix = confusion_matrix(creditCards_test, creditCards_preds)\n",
    "ConfusionMatrixDisplay(confusion_matrix = creditCards_matrix, display_labels = [True, False]).plot()"
   ]
  },
  {
   "cell_type": "code",
   "execution_count": null,
   "metadata": {},
   "outputs": [],
   "source": [
    "## Word2Vec\n"
   ]
  },
  {
   "cell_type": "markdown",
   "metadata": {},
   "source": []
  },
  {
   "cell_type": "code",
   "execution_count": 42,
   "metadata": {},
   "outputs": [
    {
     "data": {
      "text/plain": [
       "{'alpha': 1.0, 'class_prior': None, 'fit_prior': True}"
      ]
     },
     "execution_count": 42,
     "metadata": {},
     "output_type": "execute_result"
    }
   ],
   "source": [
    "# Hyperparameters\n",
    "\n",
    "creditCards_model.get_params()"
   ]
  },
  {
   "cell_type": "code",
   "execution_count": null,
   "metadata": {},
   "outputs": [],
   "source": [
    "yelp_test_businesses_priceRange2.groupby(['attribute_value'])['attribute_value'].agg('count')"
   ]
  },
  {
   "cell_type": "code",
   "execution_count": null,
   "metadata": {},
   "outputs": [],
   "source": [
    "attributes_validate_business"
   ]
  },
  {
   "cell_type": "code",
   "execution_count": null,
   "metadata": {},
   "outputs": [],
   "source": [
    "attributes_test_businesses"
   ]
  },
  {
   "cell_type": "code",
   "execution_count": null,
   "metadata": {},
   "outputs": [],
   "source": [
    "attributes_train_businesses"
   ]
  },
  {
   "cell_type": "code",
   "execution_count": null,
   "metadata": {},
   "outputs": [],
   "source": [
    "'''\n",
    "Task 1:\n",
    "Predict business attributes by using Review and Tip\n",
    "textual information.\n",
    "Something more interesting?\n",
    "• Noise removal?\n",
    "• Sampling?\n",
    "• Extracting name entities and opinion from the text?\n",
    "• Focusing on most useful reviews/tips?\n",
    "• Sentiment scores can be useful?\n",
    "'''"
   ]
  },
  {
   "cell_type": "code",
   "execution_count": null,
   "metadata": {},
   "outputs": [],
   "source": [
    "# Part 1 - Predict business attributes by using Review and Tip textual information\n",
    "\n",
    "''' \n",
    "You need to create your own training and testing sets\n",
    "(e.g., for business has more than 50 reviews + tips and\n",
    "more than 3 attributes); you may need to focus on\n",
    "popular attributes\n",
    "'''"
   ]
  },
  {
   "cell_type": "code",
   "execution_count": null,
   "metadata": {},
   "outputs": [],
   "source": [
    "# Models - NLTK\n",
    "\n",
    "# Hyperparameter Tuning\n",
    "\n",
    "# Error Histograms?"
   ]
  }
 ],
 "metadata": {
  "kernelspec": {
   "display_name": "base",
   "language": "python",
   "name": "python3"
  },
  "language_info": {
   "codemirror_mode": {
    "name": "ipython",
    "version": 3
   },
   "file_extension": ".py",
   "mimetype": "text/x-python",
   "name": "python",
   "nbconvert_exporter": "python",
   "pygments_lexer": "ipython3",
   "version": "3.9.7"
  }
 },
 "nbformat": 4,
 "nbformat_minor": 2
}
