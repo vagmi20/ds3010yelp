{
 "cells": [
  {
   "cell_type": "code",
   "execution_count": 1,
   "metadata": {},
   "outputs": [],
   "source": [
    "import pandas as pd\n",
    "import numpy as np"
   ]
  },
  {
   "cell_type": "code",
   "execution_count": 2,
   "metadata": {},
   "outputs": [],
   "source": [
    "yelp_train_businesses = pd.read_csv(\"yelp_csv_dataset/yelp_train_businesses.csv\")\n",
    "yelp_train_tips = pd.read_csv(\"yelp_csv_dataset/yelp_train_tips.csv\")\n",
    "yelp_train_users = pd.read_csv(\"yelp_csv_dataset/yelp_train_users.csv\")\n",
    "yelp_train_checkins = pd.read_csv(\"yelp_csv_dataset/yelp_train_checkins.csv\")\n",
    "yelp_train_reviews = pd.read_csv(\"yelp_csv_dataset/yelp_train_reviews.csv\")"
   ]
  },
  {
   "cell_type": "code",
   "execution_count": 7,
   "metadata": {},
   "outputs": [
    {
     "name": "stderr",
     "output_type": "stream",
     "text": [
      "/Users/puttu/opt/anaconda3/lib/python3.9/site-packages/IPython/core/interactiveshell.py:3444: DtypeWarning: Columns (0) have mixed types.Specify dtype option on import or set low_memory=False.\n",
      "  exec(code_obj, self.user_global_ns, self.user_ns)\n"
     ]
    }
   ],
   "source": [
    "yelp_validate_businesses = pd.read_csv(\"yelp_csv_dataset/yelp_validate_businesses.csv\")\n",
    "yelp_validate_tips = pd.read_csv(\"yelp_csv_dataset/yelp_validate_tips.csv\")\n",
    "yelp_validate_users = pd.read_csv(\"yelp_csv_dataset/yelp_validate_users.csv\")\n",
    "yelp_validate_checkins = pd.read_csv(\"yelp_csv_dataset/yelp_validate_checkins.csv\")\n",
    "yelp_validate_reviews = pd.read_csv(\"yelp_csv_dataset/yelp_validate_reviews.csv\")"
   ]
  },
  {
   "cell_type": "code",
   "execution_count": 8,
   "metadata": {},
   "outputs": [],
   "source": [
    "yelp_test_businesses = pd.read_csv(\"yelp_csv_dataset/yelp_test_businesses.csv\")\n",
    "yelp_test_tips = pd.read_csv(\"yelp_csv_dataset/yelp_test_tips.csv\")\n",
    "yelp_test_users = pd.read_csv(\"yelp_csv_dataset/yelp_test_users.csv\")\n",
    "yelp_test_checkins = pd.read_csv(\"yelp_csv_dataset/yelp_test_checkins.csv\")\n",
    "yelp_test_reviews = pd.read_csv(\"yelp_csv_dataset/yelp_test_reviews.csv\")"
   ]
  },
  {
   "cell_type": "code",
   "execution_count": 12,
   "metadata": {},
   "outputs": [],
   "source": [
    "# remove name column\n",
    "yelp_train_users.drop(columns=['name'], axis=1, inplace=True)\n",
    "yelp_test_users.drop(columns=['name'], axis=1, inplace=True) \n",
    "yelp_validate_users.drop(columns=['name'], axis=1, inplace=True)"
   ]
  },
  {
   "cell_type": "code",
   "execution_count": 9,
   "metadata": {},
   "outputs": [],
   "source": [
    "# remove tips that contain less than 2 characters (provide very negligible sentimental analysis)\n",
    "yelp_train_tips = yelp_train_tips[(yelp_train_tips['text'].str.len() >= 2)]\n",
    "yelp_test_tips = yelp_test_tips[(yelp_test_tips['text'].str.len() >= 2)]\n",
    "yelp_validate_tips = yelp_validate_tips[(yelp_validate_tips['text'].str.len() >= 2)]"
   ]
  },
  {
   "cell_type": "code",
   "execution_count": 11,
   "metadata": {},
   "outputs": [],
   "source": [
    "# remove reviews that contain less than a designated string length (provide very neglibile sentimental analysis)\n",
    "yelp_train_reviews = yelp_train_reviews[(yelp_train_reviews['text'].str.len() >= 2)]\n",
    "yelp_test_reviews = yelp_test_reviews[(yelp_test_reviews['text'].str.len() >= 2)]\n",
    "yelp_validate_reviews = yelp_validate_reviews[(yelp_validate_reviews['text'].str.len() >= 2)]"
   ]
  },
  {
   "cell_type": "code",
   "execution_count": 13,
   "metadata": {},
   "outputs": [],
   "source": [
    "# remove address column (just need city and state)\n",
    "yelp_train_businesses.drop(columns=['address'], axis=1, inplace=True)\n",
    "yelp_test_businesses.drop(columns=['address'], axis=1, inplace=True) \n",
    "yelp_validate_businesses.drop(columns=['address'], axis=1, inplace=True)"
   ]
  },
  {
   "cell_type": "code",
   "execution_count": null,
   "metadata": {},
   "outputs": [],
   "source": [
    "# CO, MI, VI, VT"
   ]
  },
  {
   "cell_type": "code",
   "execution_count": null,
   "metadata": {},
   "outputs": [],
   "source": [
    "# Preprocessing\n",
    "     # Remove users that have less than 10 reviews?\n",
    "     # Change elite 20,20 to 2020 and replace with elite_count\n",
    "     # check ins? do we need or can we remove? if we want to keep, just aggregate number of check ins to that business table\n",
    "     # remove data that's got less than 10 values in states"
   ]
  }
 ],
 "metadata": {
  "kernelspec": {
   "display_name": "base",
   "language": "python",
   "name": "python3"
  },
  "language_info": {
   "codemirror_mode": {
    "name": "ipython",
    "version": 3
   },
   "file_extension": ".py",
   "mimetype": "text/x-python",
   "name": "python",
   "nbconvert_exporter": "python",
   "pygments_lexer": "ipython3",
   "version": "3.9.7"
  }
 },
 "nbformat": 4,
 "nbformat_minor": 2
}
