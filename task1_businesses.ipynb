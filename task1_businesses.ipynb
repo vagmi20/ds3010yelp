{
 "cells": [
  {
   "cell_type": "code",
   "execution_count": 59,
   "metadata": {},
   "outputs": [],
   "source": [
    "import pandas as pd\n",
    "import seaborn as sns\n",
    "import numpy as np\n",
    "from sklearn.ensemble import RandomForestClassifier\n",
    "from sklearn.linear_model import LogisticRegression\n",
    "from sklearn.feature_extraction.text import CountVectorizer\n",
    "from sklearn.model_selection import StratifiedKFold, RandomizedSearchCV\n",
    "from sklearn.naive_bayes import MultinomialNB\n",
    "from sklearn.pipeline import make_pipeline\n",
    "from sklearn.metrics import confusion_matrix, ConfusionMatrixDisplay, accuracy_score, classification_report\n",
    "import matplotlib.pyplot as plt\n",
    "import nltk\n",
    "import gensim\n",
    "from gensim.models import Word2Vec\n",
    "from nltk.tokenize import sent_tokenize, word_tokenize\n",
    "import ast\n",
    "import joblib\n",
    "import re\n",
    "import string\n",
    "import warnings\n",
    "\n",
    "warnings.filterwarnings('ignore')"
   ]
  },
  {
   "cell_type": "code",
   "execution_count": 3,
   "metadata": {},
   "outputs": [],
   "source": [
    "# Load the Datasets in\n"
   ]
  },
  {
   "cell_type": "code",
   "execution_count": 4,
   "metadata": {},
   "outputs": [],
   "source": [
    "yelp_train_businesses = pd.read_csv(\"yelp_cleaned_csv_dataset/yelp_train_businesses.csv\")\n",
    "yelp_train_tips = pd.read_csv(\"yelp_cleaned_csv_dataset/yelp_train_tips.csv\")\n",
    "yelp_train_reviews = pd.read_csv(\"yelp_cleaned_csv_dataset/yelp_train_reviews.csv\")"
   ]
  },
  {
   "cell_type": "code",
   "execution_count": 5,
   "metadata": {},
   "outputs": [],
   "source": [
    "yelp_validate_businesses = pd.read_csv(\"yelp_cleaned_csv_dataset/yelp_validate_businesses.csv\")\n",
    "yelp_validate_tips = pd.read_csv(\"yelp_cleaned_csv_dataset/yelp_validate_tips.csv\")\n",
    "yelp_validate_reviews = pd.read_csv(\"yelp_cleaned_csv_dataset/yelp_validate_reviews.csv\")"
   ]
  },
  {
   "cell_type": "code",
   "execution_count": 6,
   "metadata": {},
   "outputs": [],
   "source": [
    "yelp_test_businesses = pd.read_csv(\"yelp_cleaned_csv_dataset/yelp_test_businesses.csv\")\n",
    "yelp_test_tips = pd.read_csv(\"yelp_cleaned_csv_dataset/yelp_test_tips.csv\")\n",
    "yelp_test_reviews = pd.read_csv(\"yelp_cleaned_csv_dataset/yelp_test_reviews.csv\")"
   ]
  },
  {
   "cell_type": "code",
   "execution_count": 7,
   "metadata": {},
   "outputs": [],
   "source": [
    "def frequency_dict(df): \n",
    "    df_attributes = dict(df['attributes'])\n",
    "    attributes_counter = dict()\n",
    "    for i in range(len(df_attributes)):\n",
    "        real_dict_attributes = dict(ast.literal_eval(df_attributes[i]))\n",
    "        for attribute in real_dict_attributes.keys():\n",
    "            if attribute not in attributes_counter:\n",
    "                attributes_counter[attribute] = 1\n",
    "            else:\n",
    "                attributes_counter[attribute] += 1\n",
    "\n",
    "    attributes_counter = dict(sorted(attributes_counter.items(), key=lambda item: item[1], reverse=True))\n",
    "\n",
    "    return attributes_counter\n",
    "\n"
   ]
  },
  {
   "cell_type": "code",
   "execution_count": 8,
   "metadata": {},
   "outputs": [],
   "source": [
    "attributes_train_businesses = frequency_dict(yelp_train_businesses)\n",
    "attributes_validate_business = frequency_dict(yelp_validate_businesses)\n",
    "attributes_test_businesses = frequency_dict(yelp_test_businesses)"
   ]
  },
  {
   "cell_type": "code",
   "execution_count": 9,
   "metadata": {},
   "outputs": [],
   "source": [
    "def retrieve_attribute_from_df(df, attribute):\n",
    "    filtered_df = df[df['attributes'].str.contains(attribute)][['business_id', 'review_count', 'attributes']]\n",
    "    df_attributes = dict(filtered_df['attributes'])\n",
    "    \n",
    "    attribute_values = []\n",
    "\n",
    "    for key in df_attributes.keys():\n",
    "        real_dict_attributes = dict(ast.literal_eval(df_attributes[key]))\n",
    "        attribute_values.append(real_dict_attributes[attribute])\n",
    "\n",
    "            \n",
    "    filtered_df['attribute_value'] = attribute_values\n",
    "\n",
    "    return filtered_df[filtered_df['attribute_value'] != 'None']\n",
    "\n",
    "    "
   ]
  },
  {
   "cell_type": "code",
   "execution_count": 10,
   "metadata": {},
   "outputs": [],
   "source": [
    "# Plan to Predict the Following Attributes\n",
    "    # BusinessAcceptsCreditCards\n",
    "    # RestaurantsTakeOut\n",
    "    # RestaurantsReservations\n",
    "    # GoodForKids\n",
    "    # RestaurantsPriceRange2\n",
    "\n",
    "## got the 5 most frequent attributes"
   ]
  },
  {
   "cell_type": "code",
   "execution_count": 11,
   "metadata": {},
   "outputs": [],
   "source": [
    "yelp_train_businesses_priceRange2 = retrieve_attribute_from_df(yelp_train_businesses, 'RestaurantsPriceRange2')\n",
    "yelp_validate_businesses_priceRange2 = retrieve_attribute_from_df(yelp_validate_businesses, 'RestaurantsPriceRange2')\n",
    "yelp_test_businesses_priceRange2 = retrieve_attribute_from_df(yelp_test_businesses, 'RestaurantsPriceRange2')"
   ]
  },
  {
   "cell_type": "code",
   "execution_count": 12,
   "metadata": {},
   "outputs": [],
   "source": [
    "yelp_train_businesses_takeOut = retrieve_attribute_from_df(yelp_train_businesses, 'RestaurantsTakeOut')\n",
    "yelp_validate_businesses_takeOut = retrieve_attribute_from_df(yelp_validate_businesses, 'RestaurantsTakeOut')\n",
    "yelp_test_businesses_takeOut = retrieve_attribute_from_df(yelp_test_businesses, 'RestaurantsTakeOut')\n"
   ]
  },
  {
   "cell_type": "code",
   "execution_count": 13,
   "metadata": {},
   "outputs": [],
   "source": [
    "yelp_train_businesses_reservations = retrieve_attribute_from_df(yelp_train_businesses, 'RestaurantsReservations')\n",
    "yelp_validate_businesses_reservations = retrieve_attribute_from_df(yelp_validate_businesses, 'RestaurantsReservations')\n",
    "yelp_test_businesses_reservations = retrieve_attribute_from_df(yelp_test_businesses, 'RestaurantsReservations')"
   ]
  },
  {
   "cell_type": "code",
   "execution_count": 14,
   "metadata": {},
   "outputs": [],
   "source": [
    "yelp_train_businesses_Kids = retrieve_attribute_from_df(yelp_train_businesses, 'GoodForKids')\n",
    "yelp_validate_businesses_Kids = retrieve_attribute_from_df(yelp_validate_businesses, 'GoodForKids')\n",
    "yelp_test_businesses_Kids = retrieve_attribute_from_df(yelp_test_businesses, 'GoodForKids')"
   ]
  },
  {
   "cell_type": "code",
   "execution_count": 15,
   "metadata": {},
   "outputs": [],
   "source": [
    "yelp_train_businesses_creditCards = retrieve_attribute_from_df(yelp_train_businesses, 'BusinessAcceptsCreditCards')\n",
    "yelp_validate_businesses_creditCards = retrieve_attribute_from_df(yelp_validate_businesses, 'BusinessAcceptsCreditCards')\n",
    "yelp_test_businesses_creditCards = retrieve_attribute_from_df(yelp_test_businesses, 'BusinessAcceptsCreditCards')"
   ]
  },
  {
   "cell_type": "code",
   "execution_count": 16,
   "metadata": {},
   "outputs": [],
   "source": [
    "# 3454698\n",
    "\n",
    "# 5242692"
   ]
  },
  {
   "cell_type": "code",
   "execution_count": 17,
   "metadata": {},
   "outputs": [],
   "source": [
    "def process_text(text):\n",
    "    text = str(text).lower()\n",
    "    text = re.sub(\n",
    "        f\"[{re.escape(string.punctuation)}]\", \" \", text\n",
    "    )\n",
    "    text = \" \".join(text.split())\n",
    "    return text\n",
    "\n",
    "yelp_train_tips['clean_text'] = yelp_train_tips.text.map(process_text)\n",
    "yelp_validate_tips['clean_text'] = yelp_validate_tips.text.map(process_text)\n",
    "yelp_test_tips['clean_text'] = yelp_test_tips.text.map(process_text)\n",
    "\n",
    "# yelp_train_reviews['clean_text'] = yelp_train_reviews.text.map(process_text)\n",
    "# yelp_validate_reviews['clean_text'] = yelp_validate_reviews.text.map(process_text)\n",
    "# yelp_test_reviews['clean_text'] = yelp_test_reviews.text.map(process_text)\n"
   ]
  },
  {
   "cell_type": "code",
   "execution_count": 18,
   "metadata": {},
   "outputs": [],
   "source": [
    "# yelp_train_reviews.to_csv(\"yelp_cleaned_csv_dataset/yelp_train_reviews.csv\")\n",
    "# yelp_validate_reviews.to_csv(\"yelp_cleaned_csv_dataset/yelp_validate_reviews.csv\")\n",
    "# yelp_test_reviews.to_csv(\"yelp_cleaned_csv_dataset/yelp_test_reviews.csv\")"
   ]
  },
  {
   "cell_type": "code",
   "execution_count": 70,
   "metadata": {},
   "outputs": [],
   "source": [
    "vec = CountVectorizer(\n",
    "    ngram_range=(1, 3), \n",
    "    stop_words=\"english\",\n",
    ")"
   ]
  },
  {
   "cell_type": "code",
   "execution_count": 92,
   "metadata": {},
   "outputs": [],
   "source": [
    "def build_model(df_train, df_validate, df_test, business_train_df, business_validate_df, business_test_df):\n",
    "    yelp_filtered_train = df_train[df_train['business_id'].isin(business_train_df['business_id'])]\n",
    "    yelp_filtered_validate = df_validate[df_validate['business_id'].isin(business_validate_df['business_id'])]\n",
    "    yelp_filtered_test = df_test[df_test['business_id'].isin(business_test_df['business_id'])]\n",
    "    \n",
    "    X_train = vec.fit_transform(yelp_filtered_train.clean_text)\n",
    "    X_validate = vec.transform(yelp_filtered_validate.clean_text)\n",
    "    X_test = vec.transform(yelp_filtered_test.clean_text)\n",
    "\n",
    "    yelp_filtered_train = yelp_filtered_train.merge(business_train_df[['business_id', 'attribute_value']], on = 'business_id', how = 'inner')\n",
    "    yelp_filtered_validate = yelp_filtered_validate.merge(business_validate_df[['business_id', 'attribute_value']], on = 'business_id', how = 'inner')\n",
    "    yelp_filtered_test = yelp_filtered_test.merge(business_test_df[['business_id', 'attribute_value']], on = 'business_id', how = 'inner')\n",
    "\n",
    "    y_train = yelp_filtered_train.attribute_value\n",
    "    y_validate = yelp_filtered_validate.attribute_value\n",
    "    y_test = yelp_filtered_test.attribute_value\n",
    "\n",
    "\n",
    "    # Hyper-parameter tuning for Multinomial NB (randomized search)\n",
    "    param_grid = {\n",
    "    \"multinomialnb__alpha\": [0.0001, 0.001, 0.1, 1, 10, 100]\n",
    "    }\n",
    "\n",
    "    nb = MultinomialNB()\n",
    "    nb.fit(X_train, y_train)\n",
    "\n",
    "    pipe_nb = make_pipeline(\n",
    "        nb\n",
    "    )\n",
    "\n",
    "    random_search = RandomizedSearchCV(pipe_nb, param_grid, cv=3, verbose=2, n_jobs=-1)  \n",
    "    validate_search = random_search.fit(X_validate, y_validate)\n",
    "\n",
    "    best_alpha_param = validate_search.best_params_\n",
    "\n",
    "    nb.set_params(alpha = best_alpha_param['multinomialnb__alpha'])\n",
    "    \n",
    "\n",
    "    preds = nb.predict(X_test)\n",
    "    \n",
    "\n",
    "    print(accuracy_score(y_test, preds))\n",
    "    print(classification_report(y_test, preds))\n",
    "\n",
    "    return nb, y_test, preds\n"
   ]
  },
  {
   "cell_type": "code",
   "execution_count": 93,
   "metadata": {},
   "outputs": [
    {
     "name": "stdout",
     "output_type": "stream",
     "text": [
      "Fitting 3 folds for each of 6 candidates, totalling 18 fits\n"
     ]
    },
    {
     "name": "stderr",
     "output_type": "stream",
     "text": [
      "/Users/puttu/opt/anaconda3/lib/python3.9/site-packages/scipy/__init__.py:146: UserWarning: A NumPy version >=1.16.5 and <1.23.0 is required for this version of SciPy (detected version 1.23.5\n",
      "  warnings.warn(f\"A NumPy version >={np_minversion} and <{np_maxversion}\"\n"
     ]
    },
    {
     "name": "stdout",
     "output_type": "stream",
     "text": [
      "[CV] END ........................multinomialnb__alpha=0.0001; total time=   0.4s\n"
     ]
    },
    {
     "name": "stderr",
     "output_type": "stream",
     "text": [
      "/Users/puttu/opt/anaconda3/lib/python3.9/site-packages/scipy/__init__.py:146: UserWarning: A NumPy version >=1.16.5 and <1.23.0 is required for this version of SciPy (detected version 1.23.5\n",
      "  warnings.warn(f\"A NumPy version >={np_minversion} and <{np_maxversion}\"\n",
      "/Users/puttu/opt/anaconda3/lib/python3.9/site-packages/scipy/__init__.py:146: UserWarning: A NumPy version >=1.16.5 and <1.23.0 is required for this version of SciPy (detected version 1.23.5\n",
      "  warnings.warn(f\"A NumPy version >={np_minversion} and <{np_maxversion}\"\n",
      "/Users/puttu/opt/anaconda3/lib/python3.9/site-packages/scipy/__init__.py:146: UserWarning: A NumPy version >=1.16.5 and <1.23.0 is required for this version of SciPy (detected version 1.23.5\n",
      "  warnings.warn(f\"A NumPy version >={np_minversion} and <{np_maxversion}\"\n",
      "/Users/puttu/opt/anaconda3/lib/python3.9/site-packages/scipy/__init__.py:146: UserWarning: A NumPy version >=1.16.5 and <1.23.0 is required for this version of SciPy (detected version 1.23.5\n",
      "  warnings.warn(f\"A NumPy version >={np_minversion} and <{np_maxversion}\"\n",
      "/Users/puttu/opt/anaconda3/lib/python3.9/site-packages/scipy/__init__.py:146: UserWarning: A NumPy version >=1.16.5 and <1.23.0 is required for this version of SciPy (detected version 1.23.5\n",
      "  warnings.warn(f\"A NumPy version >={np_minversion} and <{np_maxversion}\"\n",
      "/Users/puttu/opt/anaconda3/lib/python3.9/site-packages/scipy/__init__.py:146: UserWarning: A NumPy version >=1.16.5 and <1.23.0 is required for this version of SciPy (detected version 1.23.5\n",
      "  warnings.warn(f\"A NumPy version >={np_minversion} and <{np_maxversion}\"\n",
      "/Users/puttu/opt/anaconda3/lib/python3.9/site-packages/scipy/__init__.py:146: UserWarning: A NumPy version >=1.16.5 and <1.23.0 is required for this version of SciPy (detected version 1.23.5\n",
      "  warnings.warn(f\"A NumPy version >={np_minversion} and <{np_maxversion}\"\n",
      "/Users/puttu/opt/anaconda3/lib/python3.9/site-packages/scipy/__init__.py:146: UserWarning: A NumPy version >=1.16.5 and <1.23.0 is required for this version of SciPy (detected version 1.23.5\n",
      "  warnings.warn(f\"A NumPy version >={np_minversion} and <{np_maxversion}\"\n",
      "/Users/puttu/opt/anaconda3/lib/python3.9/site-packages/scipy/__init__.py:146: UserWarning: A NumPy version >=1.16.5 and <1.23.0 is required for this version of SciPy (detected version 1.23.5\n",
      "  warnings.warn(f\"A NumPy version >={np_minversion} and <{np_maxversion}\"\n",
      "/Users/puttu/opt/anaconda3/lib/python3.9/site-packages/scipy/__init__.py:146: UserWarning: A NumPy version >=1.16.5 and <1.23.0 is required for this version of SciPy (detected version 1.23.5\n",
      "  warnings.warn(f\"A NumPy version >={np_minversion} and <{np_maxversion}\"\n",
      "/Users/puttu/opt/anaconda3/lib/python3.9/site-packages/scipy/__init__.py:146: UserWarning: A NumPy version >=1.16.5 and <1.23.0 is required for this version of SciPy (detected version 1.23.5\n",
      "  warnings.warn(f\"A NumPy version >={np_minversion} and <{np_maxversion}\"\n"
     ]
    },
    {
     "name": "stdout",
     "output_type": "stream",
     "text": [
      "[CV] END .............................multinomialnb__alpha=1; total time=   0.9s\n",
      "[CV] END ............................multinomialnb__alpha=10; total time=   0.6s\n",
      "[CV] END ............................multinomialnb__alpha=10; total time=   0.8s\n",
      "[CV] END ........................multinomialnb__alpha=0.0001; total time=   1.6s\n",
      "[CV] END ........................multinomialnb__alpha=0.0001; total time=   1.6s\n",
      "[CV] END ...........................multinomialnb__alpha=0.1; total time=   1.6s\n",
      "[CV] END .........................multinomialnb__alpha=0.001; total time=   1.7s\n",
      "[CV] END .........................multinomialnb__alpha=0.001; total time=   1.7s[CV] END .........................multinomialnb__alpha=0.001; total time=   1.7s\n",
      "\n",
      "[CV] END ...........................multinomialnb__alpha=0.1; total time=   1.6s\n",
      "[CV] END ...........................multinomialnb__alpha=0.1; total time=   1.7s\n",
      "[CV] END .............................multinomialnb__alpha=1; total time=   1.7s\n",
      "[CV] END .............................multinomialnb__alpha=1; total time=   1.7s\n",
      "[CV] END ...........................multinomialnb__alpha=100; total time=   1.7s\n",
      "[CV] END ............................multinomialnb__alpha=10; total time=   1.2s\n",
      "[CV] END ...........................multinomialnb__alpha=100; total time=   0.5s\n",
      "[CV] END ...........................multinomialnb__alpha=100; total time=   0.4s\n",
      "0.9537988449711243\n",
      "              precision    recall  f1-score   support\n",
      "\n",
      "       False       0.00      0.00      0.00      1230\n",
      "        True       0.95      1.00      0.98     25436\n",
      "\n",
      "    accuracy                           0.95     26666\n",
      "   macro avg       0.48      0.50      0.49     26666\n",
      "weighted avg       0.91      0.95      0.93     26666\n",
      "\n"
     ]
    }
   ],
   "source": [
    "takeOut_model, takeOut_test, takeOut_preds = build_model(yelp_train_tips, yelp_validate_tips, yelp_test_tips, yelp_train_businesses_takeOut, yelp_validate_businesses_takeOut, yelp_test_businesses_takeOut)\n"
   ]
  },
  {
   "cell_type": "code",
   "execution_count": 94,
   "metadata": {},
   "outputs": [
    {
     "name": "stdout",
     "output_type": "stream",
     "text": [
      "Fitting 3 folds for each of 6 candidates, totalling 18 fits\n",
      "[CV] END ........................multinomialnb__alpha=0.0001; total time=   1.1s\n",
      "[CV] END ........................multinomialnb__alpha=0.0001; total time=   1.2s\n",
      "[CV] END .........................multinomialnb__alpha=0.001; total time=   1.4s\n",
      "[CV] END .........................multinomialnb__alpha=0.001; total time=   1.4s\n",
      "[CV] END ........................multinomialnb__alpha=0.0001; total time=   1.4s\n",
      "[CV] END .........................multinomialnb__alpha=0.001; total time=   1.4s\n",
      "[CV] END ...........................multinomialnb__alpha=0.1; total time=   1.5s\n",
      "[CV] END ...........................multinomialnb__alpha=0.1; total time=   1.5s\n",
      "[CV] END ...........................multinomialnb__alpha=0.1; total time=   1.6s\n",
      "[CV] END .............................multinomialnb__alpha=1; total time=   1.6s\n",
      "[CV] END .............................multinomialnb__alpha=1; total time=   1.6s\n",
      "[CV] END .............................multinomialnb__alpha=1; total time=   1.6s\n",
      "[CV] END ............................multinomialnb__alpha=10; total time=   0.8s\n",
      "[CV] END ............................multinomialnb__alpha=10; total time=   0.9s\n",
      "[CV] END ............................multinomialnb__alpha=10; total time=   0.7s\n",
      "[CV] END ...........................multinomialnb__alpha=100; total time=   0.7s\n",
      "[CV] END ...........................multinomialnb__alpha=100; total time=   0.7s\n",
      "[CV] END ...........................multinomialnb__alpha=100; total time=   0.7s\n",
      "0.6602690811706944\n",
      "              precision    recall  f1-score   support\n",
      "\n",
      "           1       0.30      0.00      0.01      8712\n",
      "           2       0.66      1.00      0.80     20756\n",
      "           3       0.00      0.00      0.00      1651\n",
      "           4       0.00      0.00      0.00       247\n",
      "\n",
      "    accuracy                           0.66     31366\n",
      "   macro avg       0.24      0.25      0.20     31366\n",
      "weighted avg       0.52      0.66      0.53     31366\n",
      "\n"
     ]
    }
   ],
   "source": [
    "priceRange_model, priceRange2_test, priceRange2_preds = build_model(yelp_train_tips, yelp_validate_tips, yelp_test_tips, yelp_train_businesses_priceRange2, yelp_validate_businesses_priceRange2, yelp_test_businesses_priceRange2)"
   ]
  },
  {
   "cell_type": "code",
   "execution_count": 95,
   "metadata": {},
   "outputs": [
    {
     "name": "stdout",
     "output_type": "stream",
     "text": [
      "Fitting 3 folds for each of 6 candidates, totalling 18 fits\n",
      "[CV] END ........................multinomialnb__alpha=0.0001; total time=   0.4s\n",
      "[CV] END ........................multinomialnb__alpha=0.0001; total time=   0.5s\n",
      "[CV] END ........................multinomialnb__alpha=0.0001; total time=   0.5s\n",
      "[CV] END .........................multinomialnb__alpha=0.001; total time=   0.5s\n",
      "[CV] END .........................multinomialnb__alpha=0.001; total time=   0.5s\n",
      "[CV] END .........................multinomialnb__alpha=0.001; total time=   0.6s\n",
      "[CV] END ...........................multinomialnb__alpha=0.1; total time=   0.6s\n",
      "[CV] END ...........................multinomialnb__alpha=0.1; total time=   0.6s\n",
      "[CV] END ...........................multinomialnb__alpha=0.1; total time=   0.6s\n",
      "[CV] END .............................multinomialnb__alpha=1; total time=   0.6s\n",
      "[CV] END .............................multinomialnb__alpha=1; total time=   0.5s\n",
      "[CV] END .............................multinomialnb__alpha=1; total time=   0.5s\n",
      "[CV] END ............................multinomialnb__alpha=10; total time=   0.4s\n",
      "[CV] END ............................multinomialnb__alpha=10; total time=   0.4s\n",
      "[CV] END ............................multinomialnb__alpha=10; total time=   0.4s\n",
      "[CV] END ...........................multinomialnb__alpha=100; total time=   0.4s\n",
      "[CV] END ...........................multinomialnb__alpha=100; total time=   0.4s\n",
      "[CV] END ...........................multinomialnb__alpha=100; total time=   0.3s\n",
      "0.8313391368771995\n",
      "              precision    recall  f1-score   support\n",
      "\n",
      "       False       0.17      0.00      0.00      4538\n",
      "        True       0.83      1.00      0.91     22457\n",
      "\n",
      "    accuracy                           0.83     26995\n",
      "   macro avg       0.50      0.50      0.45     26995\n",
      "weighted avg       0.72      0.83      0.76     26995\n",
      "\n"
     ]
    }
   ],
   "source": [
    "Kids_model, Kids_test, Kids_preds = build_model(yelp_train_tips, yelp_validate_tips, yelp_test_tips, yelp_train_businesses_Kids, yelp_validate_businesses_Kids, yelp_test_businesses_Kids)"
   ]
  },
  {
   "cell_type": "code",
   "execution_count": 96,
   "metadata": {},
   "outputs": [
    {
     "name": "stdout",
     "output_type": "stream",
     "text": [
      "Fitting 3 folds for each of 6 candidates, totalling 18 fits\n",
      "[CV] END ........................multinomialnb__alpha=0.0001; total time=   0.4s\n",
      "[CV] END ........................multinomialnb__alpha=0.0001; total time=   0.5s\n",
      "[CV] END .........................multinomialnb__alpha=0.001; total time=   0.5s\n",
      "[CV] END .........................multinomialnb__alpha=0.001; total time=   0.5s\n",
      "[CV] END .........................multinomialnb__alpha=0.001; total time=   0.5s\n",
      "[CV] END ........................multinomialnb__alpha=0.0001; total time=   0.5s\n",
      "[CV] END ...........................multinomialnb__alpha=0.1; total time=   0.5s\n",
      "[CV] END ...........................multinomialnb__alpha=0.1; total time=   0.5s\n",
      "[CV] END .............................multinomialnb__alpha=1; total time=   0.5s\n",
      "[CV] END ...........................multinomialnb__alpha=0.1; total time=   0.5s\n",
      "[CV] END .............................multinomialnb__alpha=1; total time=   0.5s\n",
      "[CV] END .............................multinomialnb__alpha=1; total time=   0.5s\n",
      "[CV] END ............................multinomialnb__alpha=10; total time=   0.3s\n",
      "[CV] END ............................multinomialnb__alpha=10; total time=   0.3s\n",
      "[CV] END ............................multinomialnb__alpha=10; total time=   0.3s\n",
      "[CV] END ...........................multinomialnb__alpha=100; total time=   0.3s\n",
      "[CV] END ...........................multinomialnb__alpha=100; total time=   0.3s\n",
      "[CV] END ...........................multinomialnb__alpha=100; total time=   0.3s\n",
      "0.5862703634085213\n",
      "              precision    recall  f1-score   support\n",
      "\n",
      "       False       0.61      0.89      0.72     15565\n",
      "        True       0.40      0.12      0.18      9971\n",
      "\n",
      "    accuracy                           0.59     25536\n",
      "   macro avg       0.51      0.50      0.45     25536\n",
      "weighted avg       0.53      0.59      0.51     25536\n",
      "\n"
     ]
    }
   ],
   "source": [
    "reservations_model, reservations_test, reservations_preds =  build_model(yelp_train_tips, yelp_validate_tips, yelp_test_tips, yelp_train_businesses_reservations, yelp_validate_businesses_reservations, yelp_test_businesses_reservations)"
   ]
  },
  {
   "cell_type": "code",
   "execution_count": 97,
   "metadata": {},
   "outputs": [
    {
     "name": "stdout",
     "output_type": "stream",
     "text": [
      "Fitting 3 folds for each of 6 candidates, totalling 18 fits\n",
      "[CV] END ........................multinomialnb__alpha=0.0001; total time=   0.5s\n",
      "[CV] END ........................multinomialnb__alpha=0.0001; total time=   1.1s\n",
      "[CV] END .........................multinomialnb__alpha=0.001; total time=   1.4s\n",
      "[CV] END ........................multinomialnb__alpha=0.0001; total time=   1.4s\n",
      "[CV] END .........................multinomialnb__alpha=0.001; total time=   1.4s\n",
      "[CV] END ...........................multinomialnb__alpha=0.1; total time=   1.5s\n",
      "[CV] END .........................multinomialnb__alpha=0.001; total time=   1.5s\n",
      "[CV] END ...........................multinomialnb__alpha=0.1; total time=   1.5s\n",
      "[CV] END ...........................multinomialnb__alpha=0.1; total time=   1.5s\n",
      "[CV] END .............................multinomialnb__alpha=1; total time=   1.5s\n",
      "[CV] END .............................multinomialnb__alpha=1; total time=   1.5s\n",
      "[CV] END .............................multinomialnb__alpha=1; total time=   1.5s\n",
      "[CV] END ............................multinomialnb__alpha=10; total time=   0.9s\n",
      "[CV] END ............................multinomialnb__alpha=10; total time=   0.6s\n",
      "[CV] END ............................multinomialnb__alpha=10; total time=   0.5s\n",
      "[CV] END ...........................multinomialnb__alpha=100; total time=   0.5s\n",
      "[CV] END ...........................multinomialnb__alpha=100; total time=   0.5s\n",
      "[CV] END ...........................multinomialnb__alpha=100; total time=   0.4s\n",
      "0.9702507437314067\n",
      "              precision    recall  f1-score   support\n",
      "\n",
      "       False       0.00      0.00      0.00       980\n",
      "        True       0.97      1.00      0.98     31962\n",
      "\n",
      "    accuracy                           0.97     32942\n",
      "   macro avg       0.49      0.50      0.49     32942\n",
      "weighted avg       0.94      0.97      0.96     32942\n",
      "\n"
     ]
    }
   ],
   "source": [
    "creditCards_model, creditCards_test, creditCards_preds = build_model(yelp_train_tips, yelp_validate_tips, yelp_test_tips, yelp_train_businesses_creditCards, yelp_validate_businesses_creditCards, yelp_test_businesses_creditCards)"
   ]
  },
  {
   "cell_type": "code",
   "execution_count": 98,
   "metadata": {},
   "outputs": [
    {
     "data": {
      "text/plain": [
       "<sklearn.metrics._plot.confusion_matrix.ConfusionMatrixDisplay at 0x7fc456b1adf0>"
      ]
     },
     "execution_count": 98,
     "metadata": {},
     "output_type": "execute_result"
    },
    {
     "data": {
      "image/png": "[encoded data removed]",
      "text/plain": [
       "<Figure size 432x288 with 2 Axes>"
      ]
     },
     "metadata": {
      "needs_background": "light"
     },
     "output_type": "display_data"
    }
   ],
   "source": [
    "reservations_matrix = confusion_matrix(reservations_test, reservations_preds)\n",
    "ConfusionMatrixDisplay(confusion_matrix = reservations_matrix, display_labels = [False, True]).plot()"
   ]
  },
  {
   "cell_type": "code",
   "execution_count": 99,
   "metadata": {},
   "outputs": [
    {
     "data": {
      "text/plain": [
       "<sklearn.metrics._plot.confusion_matrix.ConfusionMatrixDisplay at 0x7fc4724f70d0>"
      ]
     },
     "execution_count": 99,
     "metadata": {},
     "output_type": "execute_result"
    },
    {
     "data": {
      "image/png": "[encoded data removed]",
      "text/plain": [
       "<Figure size 432x288 with 2 Axes>"
      ]
     },
     "metadata": {
      "needs_background": "light"
     },
     "output_type": "display_data"
    }
   ],
   "source": [
    "Kids_matrix = confusion_matrix(Kids_test, Kids_preds)\n",
    "ConfusionMatrixDisplay(confusion_matrix = Kids_matrix, display_labels = [False, True]).plot()"
   ]
  },
  {
   "cell_type": "code",
   "execution_count": 100,
   "metadata": {},
   "outputs": [
    {
     "data": {
      "text/plain": [
       "<sklearn.metrics._plot.confusion_matrix.ConfusionMatrixDisplay at 0x7fc4397ae580>"
      ]
     },
     "execution_count": 100,
     "metadata": {},
     "output_type": "execute_result"
    },
    {
     "data": {
      "image/png": "[encoded data removed]",
      "text/plain": [
       "<Figure size 432x288 with 2 Axes>"
      ]
     },
     "metadata": {
      "needs_background": "light"
     },
     "output_type": "display_data"
    }
   ],
   "source": [
    "takeOut_matrix = confusion_matrix(takeOut_test, takeOut_preds)\n",
    "ConfusionMatrixDisplay(confusion_matrix = takeOut_matrix, display_labels = [False, True]).plot()"
   ]
  },
  {
   "cell_type": "code",
   "execution_count": 101,
   "metadata": {},
   "outputs": [
    {
     "data": {
      "text/plain": [
       "<sklearn.metrics._plot.confusion_matrix.ConfusionMatrixDisplay at 0x7fc455135a90>"
      ]
     },
     "execution_count": 101,
     "metadata": {},
     "output_type": "execute_result"
    },
    {
     "data": {
      "image/png": "[encoded data removed]",
      "text/plain": [
       "<Figure size 432x288 with 2 Axes>"
      ]
     },
     "metadata": {
      "needs_background": "light"
     },
     "output_type": "display_data"
    }
   ],
   "source": [
    "priceRange2_matrix = confusion_matrix(priceRange2_test, priceRange2_preds)\n",
    "ConfusionMatrixDisplay(confusion_matrix = priceRange2_matrix, display_labels = [1, 2, 3, 4]).plot()"
   ]
  },
  {
   "cell_type": "code",
   "execution_count": 102,
   "metadata": {},
   "outputs": [
    {
     "data": {
      "text/plain": [
       "<sklearn.metrics._plot.confusion_matrix.ConfusionMatrixDisplay at 0x7fc47e93c4f0>"
      ]
     },
     "execution_count": 102,
     "metadata": {},
     "output_type": "execute_result"
    },
    {
     "data": {
      "image/png": "[encoded data removed]",
      "text/plain": [
       "<Figure size 432x288 with 2 Axes>"
      ]
     },
     "metadata": {
      "needs_background": "light"
     },
     "output_type": "display_data"
    }
   ],
   "source": [
    "creditCards_matrix = confusion_matrix(creditCards_test, creditCards_preds)\n",
    "ConfusionMatrixDisplay(confusion_matrix = creditCards_matrix, display_labels = [False, True]).plot()"
   ]
  },
  {
   "cell_type": "code",
   "execution_count": null,
   "metadata": {},
   "outputs": [],
   "source": [
    "## Word2Vec\n"
   ]
  },
  {
   "cell_type": "markdown",
   "metadata": {},
   "source": []
  },
  {
   "cell_type": "code",
   "execution_count": 42,
   "metadata": {},
   "outputs": [
    {
     "data": {
      "text/plain": [
       "{'alpha': 1.0, 'class_prior': None, 'fit_prior': True}"
      ]
     },
     "execution_count": 42,
     "metadata": {},
     "output_type": "execute_result"
    }
   ],
   "source": [
    "# Hyperparameters\n",
    "\n",
    "creditCards_model.get_params()"
   ]
  },
  {
   "cell_type": "code",
   "execution_count": null,
   "metadata": {},
   "outputs": [],
   "source": [
    "yelp_test_businesses_priceRange2.groupby(['attribute_value'])['attribute_value'].agg('count')"
   ]
  },
  {
   "cell_type": "code",
   "execution_count": null,
   "metadata": {},
   "outputs": [],
   "source": [
    "attributes_validate_business"
   ]
  },
  {
   "cell_type": "code",
   "execution_count": null,
   "metadata": {},
   "outputs": [],
   "source": [
    "attributes_test_businesses"
   ]
  },
  {
   "cell_type": "code",
   "execution_count": null,
   "metadata": {},
   "outputs": [],
   "source": [
    "attributes_train_businesses"
   ]
  },
  {
   "cell_type": "code",
   "execution_count": null,
   "metadata": {},
   "outputs": [],
   "source": [
    "'''\n",
    "Task 1:\n",
    "Predict business attributes by using Review and Tip\n",
    "textual information.\n",
    "Something more interesting?\n",
    "• Noise removal?\n",
    "• Sampling?\n",
    "• Extracting name entities and opinion from the text?\n",
    "• Focusing on most useful reviews/tips?\n",
    "• Sentiment scores can be useful?\n",
    "'''"
   ]
  },
  {
   "cell_type": "code",
   "execution_count": null,
   "metadata": {},
   "outputs": [],
   "source": [
    "# Part 1 - Predict business attributes by using Review and Tip textual information\n",
    "\n",
    "''' \n",
    "You need to create your own training and testing sets\n",
    "(e.g., for business has more than 50 reviews + tips and\n",
    "more than 3 attributes); you may need to focus on\n",
    "popular attributes\n",
    "'''"
   ]
  },
  {
   "cell_type": "code",
   "execution_count": null,
   "metadata": {},
   "outputs": [],
   "source": [
    "# Models - NLTK\n",
    "\n",
    "# Hyperparameter Tuning\n",
    "\n",
    "# Error Histograms?"
   ]
  }
 ],
 "metadata": {
  "kernelspec": {
   "display_name": "base",
   "language": "python",
   "name": "python3"
  },
  "language_info": {
   "codemirror_mode": {
    "name": "ipython",
    "version": 3
   },
   "file_extension": ".py",
   "mimetype": "text/x-python",
   "name": "python",
   "nbconvert_exporter": "python",
   "pygments_lexer": "ipython3",
   "version": "3.9.7"
  }
 },
 "nbformat": 4,
 "nbformat_minor": 2
}
