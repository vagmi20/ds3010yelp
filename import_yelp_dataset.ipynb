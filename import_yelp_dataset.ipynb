{
 "cells": [
  {
   "cell_type": "code",
   "execution_count": 1,
   "metadata": {},
   "outputs": [],
   "source": [
    "import pandas as pd\n",
    "from sklearn.model_selection import train_test_split"
   ]
  },
  {
   "cell_type": "code",
   "execution_count": null,
   "metadata": {},
   "outputs": [],
   "source": [
    "yelp_businesses = pd.read_json(\"yelp_dataset/yelp_academic_dataset_business.json\", lines=True)\n",
    "yelp_checkins = pd.read_json(\"yelp_dataset/yelp_academic_dataset_checkin.json\", lines=True)\n",
    "yelp_reviews = pd.read_json(\"yelp_dataset/yelp_academic_dataset_tip.json\", lines=True)\n",
    "yelp_users = pd.read_json(\"yelp_dataset/yelp_academic_dataset_user.json\", lines=True)"
   ]
  },
  {
   "cell_type": "code",
   "execution_count": null,
   "metadata": {},
   "outputs": [],
   "source": [
    "# find info on data\n",
    "\n",
    "# drop null values\n",
    "\n",
    "# dimensional scale\n",
    "\n",
    "yelp_businesses"
   ]
  },
  {
   "cell_type": "code",
   "execution_count": null,
   "metadata": {},
   "outputs": [],
   "source": [
    "yelp_checkins"
   ]
  },
  {
   "cell_type": "code",
   "execution_count": null,
   "metadata": {},
   "outputs": [],
   "source": [
    "yelp_reviews"
   ]
  },
  {
   "cell_type": "code",
   "execution_count": null,
   "metadata": {},
   "outputs": [],
   "source": [
    "yelp_users"
   ]
  },
  {
   "cell_type": "code",
   "execution_count": null,
   "metadata": {},
   "outputs": [],
   "source": [
    "yelp_businesses = yelp_businesses.dropna(axis=0, how='any')\n",
    "\n",
    "# no other yelp dataset has null values"
   ]
  },
  {
   "cell_type": "code",
   "execution_count": null,
   "metadata": {},
   "outputs": [],
   "source": [
    "# train/validate/test splits for all datasets\n",
    "yelp_train_businesses, yelp_test_businesses = train_test_split(yelp_businesses, test_size=0.2, random_state=1)\n",
    "yelp_train_businesses, yelp_validate_businesses = train_test_split(yelp_businesses, test_size=0.25, random_state=1)\n",
    "\n",
    "yelp_train_users, yelp_test_users = train_test_split(yelp_users, test_size=0.2, random_state=1)\n",
    "yelp_train_users, yelp_validate_users = train_test_split(yelp_users, test_size=0.25, random_state=1)\n",
    "\n",
    "yelp_train_reviews, yelp_test_reviews = train_test_split(yelp_reviews, test_size=0.2, random_state=1)\n",
    "yelp_train_reviews, yelp_validate_reviews = train_test_split(yelp_reviews, test_size=0.25, random_state=1)\n",
    "\n",
    "yelp_train_checkins, yelp_test_checkins = train_test_split(yelp_checkins, test_size=0.2, random_state=1)\n",
    "yelp_train_checkins, yelp_validate_checkins = train_test_split(yelp_checkins, test_size=0.25, random_state=1)"
   ]
  },
  {
   "cell_type": "code",
   "execution_count": null,
   "metadata": {},
   "outputs": [],
   "source": [
    "yelp_train_businesses.to_csv(\"yelp_train_businesses.csv\")\n",
    "yelp_test_businesses.to_csv(\"yelp_test_businesses.csv\")\n",
    "yelp_validate_businesses.to_csv(\"yelp_validate_businesses.csv\")\n",
    "\n",
    "yelp_train_users.to_csv(\"yelp_train_users.csv\")\n",
    "yelp_test_users.to_csv(\"yelp_test_users.csv\")\n",
    "yelp_validate_users.to_csv(\"yelp_validate_users.csv\")\n",
    "\n",
    "yelp_train_reviews.to_csv(\"yelp_train_reviews.csv\")\n",
    "yelp_test_reviews.to_csv(\"yelp_test_reviews.csv\")\n",
    "yelp_validate_reviews.to_csv(\"yelp_validate_reviews.csv\")\n",
    "\n",
    "yelp_train_checkins.to_csv(\"yelp_train_checkins.csv\")\n",
    "yelp_test_checkins.to_csv(\"yelp_test_checkins.csv\")\n",
    "yelp_validate_checkins.to_csv(\"yelp_validate_checkins.csv\")"
   ]
  },
  {
   "cell_type": "code",
   "execution_count": 7,
   "metadata": {},
   "outputs": [],
   "source": [
    "yelp_reviews = pd.read_json(\"/Users/puttu/Documents/WPI/WPI2023/DS3010/Group Project/yelp_dataset/yelp_academic_dataset_review.json\", lines=True)\n",
    "\n",
    "yelp_train_reviews, yelp_test_reviews = train_test_split(yelp_reviews, test_size=0.2, random_state=1)\n",
    "yelp_train_reviews, yelp_validate_reviews = train_test_split(yelp_reviews, test_size=0.25, random_state=1)\n",
    "\n",
    "\n",
    "yelp_train_reviews.to_csv(\"yelp_train_reviews.csv\")\n",
    "yelp_test_reviews.to_csv(\"yelp_test_reviews.csv\")\n",
    "yelp_validate_reviews.to_csv(\"yelp_validate_reviews.csv\")\n"
   ]
  },
  {
   "cell_type": "code",
   "execution_count": null,
   "metadata": {},
   "outputs": [],
   "source": []
  }
 ],
 "metadata": {
  "kernelspec": {
   "display_name": "base",
   "language": "python",
   "name": "python3"
  },
  "language_info": {
   "codemirror_mode": {
    "name": "ipython",
    "version": 3
   },
   "file_extension": ".py",
   "mimetype": "text/x-python",
   "name": "python",
   "nbconvert_exporter": "python",
   "pygments_lexer": "ipython3",
   "version": "3.9.7"
  }
 },
 "nbformat": 4,
 "nbformat_minor": 2
}
